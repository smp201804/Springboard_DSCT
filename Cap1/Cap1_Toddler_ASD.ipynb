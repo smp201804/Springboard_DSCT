{
 "cells": [
  {
   "cell_type": "markdown",
   "metadata": {},
   "source": [
    "# What behaviors in toddlers are the best predictors of classic traits associated with Autism Spectrum Disorder (ASD)?"
   ]
  },
  {
   "cell_type": "code",
   "execution_count": null,
   "metadata": {},
   "outputs": [],
   "source": [
    "#Capstone Project 1 - Toddler Austism Data Set - July 2018"
   ]
  },
  {
   "cell_type": "code",
   "execution_count": 1,
   "metadata": {},
   "outputs": [],
   "source": [
    "%matplotlib inline\n",
    "import pandas as pd\n",
    "import os\n",
    "from IPython.display import display\n",
    "import matplotlib.pyplot as plt\n",
    "import seaborn as sb\n",
    "import numpy as np"
   ]
  },
  {
   "cell_type": "code",
   "execution_count": 2,
   "metadata": {},
   "outputs": [
    {
     "data": {
      "text/plain": [
       "'C:\\\\Users\\\\SMP\\\\Springboard_DSCT\\\\Cap1'"
      ]
     },
     "execution_count": 2,
     "metadata": {},
     "output_type": "execute_result"
    }
   ],
   "source": [
    "os.getcwd()\n",
    "os.chdir('C:\\\\Users\\\\SMP\\\\Springboard_DSCT\\\\Cap1')\n",
    "os.getcwd()"
   ]
  },
  {
   "cell_type": "markdown",
   "metadata": {},
   "source": [
    "## Import csv file as dataframe and review."
   ]
  },
  {
   "cell_type": "code",
   "execution_count": 3,
   "metadata": {},
   "outputs": [],
   "source": [
    "tdlrasd = pd.read_csv('Toddler_Autism_dataset_July_2018.csv', index_col=None)"
   ]
  },
  {
   "cell_type": "code",
   "execution_count": 4,
   "metadata": {},
   "outputs": [
    {
     "name": "stdout",
     "output_type": "stream",
     "text": [
      "   Case_No  A1  A2  A3  A4  A5  A6  A7  A8  A9  A10  Age_Mons  Qchat-10-Score  \\\n",
      "0        1   0   0   0   0   0   0   1   1   0    1        28               3   \n",
      "1        2   1   1   0   0   0   1   1   0   0    0        36               4   \n",
      "2        3   1   0   0   0   0   0   1   1   0    1        36               4   \n",
      "3        4   1   1   1   1   1   1   1   1   1    1        24              10   \n",
      "4        5   1   1   0   1   1   1   1   1   1    1        20               9   \n",
      "\n",
      "  Sex       Ethnicity Jaundice Family_mem_with_ASD Who completed the test  \\\n",
      "0   f  middle eastern      yes                  no          family member   \n",
      "1   m  White European      yes                  no          family member   \n",
      "2   m  middle eastern      yes                  no          family member   \n",
      "3   m        Hispanic       no                  no          family member   \n",
      "4   f  White European       no                 yes          family member   \n",
      "\n",
      "  Class/ASD_Traits   \n",
      "0                No  \n",
      "1               Yes  \n",
      "2               Yes  \n",
      "3               Yes  \n",
      "4               Yes  \n"
     ]
    }
   ],
   "source": [
    "print(tdlrasd.head())"
   ]
  },
  {
   "cell_type": "markdown",
   "metadata": {},
   "source": [
    "##### Clean column names"
   ]
  },
  {
   "cell_type": "code",
   "execution_count": 5,
   "metadata": {},
   "outputs": [
    {
     "name": "stdout",
     "output_type": "stream",
     "text": [
      "Index(['Case_No', 'A1', 'A2', 'A3', 'A4', 'A5', 'A6', 'A7', 'A8', 'A9', 'A10',\n",
      "       'Age_Mons', 'Qchat-10-Score', 'Sex', 'Ethnicity', 'Jaundice',\n",
      "       'Family_mem_with_ASD', 'Who_completed_the_test', 'Class/ASD_Traits'],\n",
      "      dtype='object')\n"
     ]
    }
   ],
   "source": [
    "tdlrasd.columns = tdlrasd.columns.str.replace(' ', '_')\n",
    "tdlrasd.columns = tdlrasd.columns.str.replace(r\"_$\", \"\")\n",
    "\n",
    "print(tdlrasd.columns)"
   ]
  },
  {
   "cell_type": "code",
   "execution_count": 6,
   "metadata": {},
   "outputs": [
    {
     "name": "stdout",
     "output_type": "stream",
     "text": [
      "   Case_No  A1  A2  A3  A4  A5  A6  A7  A8  A9  A10  Age_Mons  Qchat-10-Score  \\\n",
      "0        1   0   0   0   0   0   0   1   1   0    1        28               3   \n",
      "1        2   1   1   0   0   0   1   1   0   0    0        36               4   \n",
      "2        3   1   0   0   0   0   0   1   1   0    1        36               4   \n",
      "3        4   1   1   1   1   1   1   1   1   1    1        24              10   \n",
      "4        5   1   1   0   1   1   1   1   1   1    1        20               9   \n",
      "\n",
      "  Sex       Ethnicity Jaundice Family_mem_with_ASD Who_completed_the_test  \\\n",
      "0   f  middle eastern      yes                  no          family member   \n",
      "1   m  White European      yes                  no          family member   \n",
      "2   m  middle eastern      yes                  no          family member   \n",
      "3   m        Hispanic       no                  no          family member   \n",
      "4   f  White European       no                 yes          family member   \n",
      "\n",
      "  Class/ASD_Traits  \n",
      "0               No  \n",
      "1              Yes  \n",
      "2              Yes  \n",
      "3              Yes  \n",
      "4              Yes  \n"
     ]
    }
   ],
   "source": [
    "print(tdlrasd.head())"
   ]
  },
  {
   "cell_type": "markdown",
   "metadata": {},
   "source": [
    "### In the visualizations below, I look at negative vs. positive (No/Yes) determinations of classic ASD traits by gender, age, and ethnicity.\n",
    "\n",
    "####  Males have more representation in this data, and are shown to posess the classic ASD traits at a much higher rate.\n",
    "####  The higher age and age ranges also show more representation in the data and posess the traits at a higer rate, though the difference doesn't appear as marked.\n",
    "#### Ethnicity is also a factor and it will be interesting to see it's role along with other factors in ultimately predicting if a child possesses classic ASD traits.\n"
   ]
  },
  {
   "cell_type": "code",
   "execution_count": 7,
   "metadata": {},
   "outputs": [
    {
     "data": {
      "text/plain": [
       "<matplotlib.axes._subplots.AxesSubplot at 0x2935a42ee80>"
      ]
     },
     "execution_count": 7,
     "metadata": {},
     "output_type": "execute_result"
    },
    {
     "data": {
      "image/png": "[encoded data removed]",
      "text/plain": [
       "<Figure size 432x288 with 1 Axes>"
      ]
     },
     "metadata": {
      "needs_background": "light"
     },
     "output_type": "display_data"
    }
   ],
   "source": [
    "#Visualize value of Class/ASD_Traits by gender (Sex)\n",
    "pd.crosstab(tdlrasd['Sex'], tdlrasd['Class/ASD_Traits']).plot.bar()"
   ]
  },
  {
   "cell_type": "code",
   "execution_count": 8,
   "metadata": {
    "scrolled": true
   },
   "outputs": [
    {
     "data": {
      "text/plain": [
       "<matplotlib.axes._subplots.AxesSubplot at 0x2935b5182e8>"
      ]
     },
     "execution_count": 8,
     "metadata": {},
     "output_type": "execute_result"
    },
    {
     "data": {
      "image/png": "[encoded data removed]",
      "text/plain": [
       "<Figure size 432x288 with 1 Axes>"
      ]
     },
     "metadata": {
      "needs_background": "light"
     },
     "output_type": "display_data"
    }
   ],
   "source": [
    "#Visualize value of Class/ASD_Traits by Age\n",
    "pd.crosstab(tdlrasd['Age_Mons'], tdlrasd['Class/ASD_Traits']).plot.bar()"
   ]
  },
  {
   "cell_type": "code",
   "execution_count": 9,
   "metadata": {},
   "outputs": [
    {
     "name": "stdout",
     "output_type": "stream",
     "text": [
      "<class 'pandas.core.frame.DataFrame'>\n",
      "RangeIndex: 1054 entries, 0 to 1053\n",
      "Data columns (total 20 columns):\n",
      "Case_No                   1054 non-null int64\n",
      "A1                        1054 non-null int64\n",
      "A2                        1054 non-null int64\n",
      "A3                        1054 non-null int64\n",
      "A4                        1054 non-null int64\n",
      "A5                        1054 non-null int64\n",
      "A6                        1054 non-null int64\n",
      "A7                        1054 non-null int64\n",
      "A8                        1054 non-null int64\n",
      "A9                        1054 non-null int64\n",
      "A10                       1054 non-null int64\n",
      "Age_Mons                  1054 non-null int64\n",
      "Qchat-10-Score            1054 non-null int64\n",
      "Sex                       1054 non-null object\n",
      "Ethnicity                 1054 non-null object\n",
      "Jaundice                  1054 non-null object\n",
      "Family_mem_with_ASD       1054 non-null object\n",
      "Who_completed_the_test    1054 non-null object\n",
      "Class/ASD_Traits          1054 non-null object\n",
      "Age_Range                 1054 non-null object\n",
      "dtypes: int64(13), object(7)\n",
      "memory usage: 164.8+ KB\n",
      "None\n",
      "   Case_No  A1  A2  A3  A4  A5  A6  A7  A8  A9  A10  Age_Mons  Qchat-10-Score  \\\n",
      "0        1   0   0   0   0   0   0   1   1   0    1        28               3   \n",
      "1        2   1   1   0   0   0   1   1   0   0    0        36               4   \n",
      "2        3   1   0   0   0   0   0   1   1   0    1        36               4   \n",
      "3        4   1   1   1   1   1   1   1   1   1    1        24              10   \n",
      "4        5   1   1   0   1   1   1   1   1   1    1        20               9   \n",
      "\n",
      "  Sex       Ethnicity Jaundice Family_mem_with_ASD Who_completed_the_test  \\\n",
      "0   f  middle eastern      yes                  no          family member   \n",
      "1   m  White European      yes                  no          family member   \n",
      "2   m  middle eastern      yes                  no          family member   \n",
      "3   m        Hispanic       no                  no          family member   \n",
      "4   f  White European       no                 yes          family member   \n",
      "\n",
      "  Class/ASD_Traits Age_Range  \n",
      "0               No     27-31  \n",
      "1              Yes     32-36  \n",
      "2              Yes     32-36  \n",
      "3              Yes     22-26  \n",
      "4              Yes     17-21  \n"
     ]
    }
   ],
   "source": [
    "#Create age range series\n",
    "\n",
    "def age_range(months):\n",
    "    if (months >= 12) & (months <= 16):\n",
    "        return '12-16'\n",
    "    elif (months >= 17) & (months <= 21):\n",
    "        return '17-21'\n",
    "    elif (months >= 22) & (months <= 26):\n",
    "        return '22-26'\n",
    "    elif (months >= 27) & (months <= 31):\n",
    "        return '27-31'\n",
    "    else:\n",
    "        return '32-36'\n",
    "\n",
    "tdlrasd['Age_Range'] = tdlrasd['Age_Mons'].apply(age_range)\n",
    "\n",
    "print(tdlrasd.info())\n",
    "\n",
    "print(tdlrasd.head())"
   ]
  },
  {
   "cell_type": "markdown",
   "metadata": {},
   "source": [
    "##### Create values to be used in calculations"
   ]
  },
  {
   "cell_type": "code",
   "execution_count": 10,
   "metadata": {},
   "outputs": [
    {
     "data": {
      "text/plain": [
       "1054"
      ]
     },
     "execution_count": 10,
     "metadata": {},
     "output_type": "execute_result"
    }
   ],
   "source": [
    "rowcount = len(tdlrasd.index)\n",
    "rowcount"
   ]
  },
  {
   "cell_type": "code",
   "execution_count": 11,
   "metadata": {},
   "outputs": [
    {
     "data": {
      "text/plain": [
       "728"
      ]
     },
     "execution_count": 11,
     "metadata": {},
     "output_type": "execute_result"
    }
   ],
   "source": [
    "yescount = tdlrasd.loc[tdlrasd['Class/ASD_Traits'] == 'Yes'].count()['Class/ASD_Traits']\n",
    "yescount"
   ]
  },
  {
   "cell_type": "code",
   "execution_count": 12,
   "metadata": {},
   "outputs": [
    {
     "data": {
      "text/plain": [
       "326"
      ]
     },
     "execution_count": 12,
     "metadata": {},
     "output_type": "execute_result"
    }
   ],
   "source": [
    "nocount = tdlrasd.loc[tdlrasd['Class/ASD_Traits'] == 'No'].count()['Class/ASD_Traits']\n",
    "nocount"
   ]
  },
  {
   "cell_type": "code",
   "execution_count": 13,
   "metadata": {},
   "outputs": [
    {
     "data": {
      "text/plain": [
       "<matplotlib.axes._subplots.AxesSubplot at 0x26f9e9749b0>"
      ]
     },
     "execution_count": 13,
     "metadata": {},
     "output_type": "execute_result"
    },
    {
     "data": {
      "image/png": "[encoded data removed]",
      "text/plain": [
       "<Figure size 432x288 with 1 Axes>"
      ]
     },
     "metadata": {
      "needs_background": "light"
     },
     "output_type": "display_data"
    }
   ],
   "source": [
    "#Visualize value of Class/ASD_Traits by Age Range\n",
    "pd.crosstab(tdlrasd['Age_Range'], tdlrasd['Class/ASD_Traits']).plot.bar()"
   ]
  },
  {
   "cell_type": "code",
   "execution_count": 13,
   "metadata": {},
   "outputs": [
    {
     "data": {
      "text/plain": [
       "<matplotlib.axes._subplots.AxesSubplot at 0x2935b6104a8>"
      ]
     },
     "execution_count": 13,
     "metadata": {},
     "output_type": "execute_result"
    },
    {
     "data": {
      "image/png": "[encoded data removed]",
      "text/plain": [
       "<Figure size 432x288 with 1 Axes>"
      ]
     },
     "metadata": {
      "needs_background": "light"
     },
     "output_type": "display_data"
    }
   ],
   "source": [
    "pd.crosstab(tdlrasd['Ethnicity'], tdlrasd['Class/ASD_Traits']).plot.bar()"
   ]
  },
  {
   "cell_type": "markdown",
   "metadata": {},
   "source": [
    "###  I'm using the box-plots and statistics below to look at the Qchat-10-Score, which is the sum of 10 behaviorial scores in the study, by age range and ethnicity."
   ]
  },
  {
   "cell_type": "code",
   "execution_count": 14,
   "metadata": {},
   "outputs": [
    {
     "data": {
      "image/png": "[encoded data removed]",
      "text/plain": [
       "<Figure size 432x288 with 1 Axes>"
      ]
     },
     "metadata": {
      "needs_background": "light"
     },
     "output_type": "display_data"
    }
   ],
   "source": [
    "#Look box plot of Qchat-10-Score, sum of ASD ('A') trait observations, by age range.\n",
    "sb.boxplot(x='Age_Range', y='Qchat-10-Score', data=tdlrasd)\n",
    "plt.xticks(rotation=45)\n",
    "plt.show()"
   ]
  },
  {
   "cell_type": "code",
   "execution_count": 15,
   "metadata": {},
   "outputs": [
    {
     "data": {
      "text/plain": [
       "Age_Range\n",
       "27-31    5.639785\n",
       "17-21    5.626506\n",
       "22-26    5.566845\n",
       "32-36    5.008889\n",
       "12-16    4.614865\n",
       "Name: Qchat-10-Score, dtype: float64"
      ]
     },
     "execution_count": 15,
     "metadata": {},
     "output_type": "execute_result"
    }
   ],
   "source": [
    "#Look at average Qchat-10-Score, sum of ASD ('A') trait observations, by age range.\n",
    "tdlrasd.groupby('Age_Range')['Qchat-10-Score'].mean().sort_values(ascending=False)"
   ]
  },
  {
   "cell_type": "code",
   "execution_count": 16,
   "metadata": {},
   "outputs": [
    {
     "data": {
      "text/plain": [
       "Age_Range\n",
       "12-16    54.054054\n",
       "17-21    68.674699\n",
       "22-26    77.540107\n",
       "27-31    74.193548\n",
       "32-36    68.444444\n",
       "dtype: float64"
      ]
     },
     "execution_count": 16,
     "metadata": {},
     "output_type": "execute_result"
    }
   ],
   "source": [
    "#Count Yes responses for Class/ASD_Traits.\n",
    "#tdlrasd.loc[tdlrasd['Class/ASD_Traits'] == 'Yes'].groupby('Age_Range')['Class/ASD_Traits'].count()\n",
    "#agerangerate = (yescount / (yescount + nocount)).groupby('Age_Range')['Class/ASD_Traits']\n",
    "#agerangerate\n",
    "#tdlrasd.loc[tdlrasd['Class/ASD_Traits'] == 'Yes'].groupby('Age_Range')['Class/ASD_Traits'].count() / rowcount * 100\n",
    "tdlrasd.loc[tdlrasd['Class/ASD_Traits'] == 'Yes'].groupby('Age_Range')['Class/ASD_Traits'].count() / \\\n",
    "tdlrasd.groupby('Age_Range').size() * 100"
   ]
  },
  {
   "cell_type": "code",
   "execution_count": 17,
   "metadata": {},
   "outputs": [
    {
     "data": {
      "text/plain": [
       "Ethnicity\n",
       "Pacifica          7.000000\n",
       "Native Indian     7.000000\n",
       "Latino            5.923077\n",
       "black             5.716981\n",
       "White European    5.715569\n",
       "Others            5.628571\n",
       "Hispanic          5.600000\n",
       "south asian       5.016667\n",
       "asian             4.983278\n",
       "mixed             4.625000\n",
       "middle eastern    4.265957\n",
       "Name: Qchat-10-Score, dtype: float64"
      ]
     },
     "execution_count": 17,
     "metadata": {},
     "output_type": "execute_result"
    }
   ],
   "source": [
    "ethorder = tdlrasd.groupby('Ethnicity')['Qchat-10-Score'].mean().sort_values(ascending=False)\n",
    "ethorder"
   ]
  },
  {
   "cell_type": "code",
   "execution_count": 18,
   "metadata": {
    "scrolled": true
   },
   "outputs": [
    {
     "data": {
      "image/png": "[encoded data removed]",
      "text/plain": [
       "<Figure size 432x288 with 1 Axes>"
      ]
     },
     "metadata": {
      "needs_background": "light"
     },
     "output_type": "display_data"
    }
   ],
   "source": [
    "#Look box plot of Qchat-10-Score, sum of ASD ('A') trait observations, by ethnicity.\n",
    "#sb.boxplot(x='Ethnicity', y='Qchat-10-Score', data=tdlrasd, order=ethorder)\n",
    "sb.boxplot(x='Ethnicity', y='Qchat-10-Score', data=tdlrasd)\n",
    "plt.xticks(rotation=90)\n",
    "plt.show()"
   ]
  },
  {
   "cell_type": "code",
   "execution_count": 19,
   "metadata": {},
   "outputs": [
    {
     "data": {
      "text/plain": [
       "Ethnicity\n",
       "Pacifica          7.000000\n",
       "Native Indian     7.000000\n",
       "Latino            5.923077\n",
       "black             5.716981\n",
       "White European    5.715569\n",
       "Others            5.628571\n",
       "Hispanic          5.600000\n",
       "south asian       5.016667\n",
       "asian             4.983278\n",
       "mixed             4.625000\n",
       "middle eastern    4.265957\n",
       "Name: Qchat-10-Score, dtype: float64"
      ]
     },
     "execution_count": 19,
     "metadata": {},
     "output_type": "execute_result"
    }
   ],
   "source": [
    "#Look at average Qchat-10-Score, sum of ASD ('A') trait observations, by ethnicity.\n",
    "tdlrasd.groupby('Ethnicity')['Qchat-10-Score'].mean().sort_values(ascending=False)"
   ]
  },
  {
   "cell_type": "code",
   "execution_count": 20,
   "metadata": {},
   "outputs": [
    {
     "data": {
      "text/plain": [
       "Ethnicity\n",
       "Hispanic           75.000000\n",
       "Latino             76.923077\n",
       "Native Indian     100.000000\n",
       "Others             82.857143\n",
       "Pacifica           87.500000\n",
       "White European     74.850299\n",
       "asian              70.903010\n",
       "black              73.584906\n",
       "middle eastern     51.063830\n",
       "mixed              62.500000\n",
       "south asian        61.666667\n",
       "dtype: float64"
      ]
     },
     "execution_count": 20,
     "metadata": {},
     "output_type": "execute_result"
    }
   ],
   "source": [
    "tdlrasd.loc[tdlrasd['Class/ASD_Traits'] == 'Yes'].groupby('Ethnicity')['Class/ASD_Traits'].count() / \\\n",
    "tdlrasd.groupby('Ethnicity').size() * 100"
   ]
  },
  {
   "cell_type": "code",
   "execution_count": 21,
   "metadata": {},
   "outputs": [
    {
     "data": {
      "text/plain": [
       "<matplotlib.axes._subplots.AxesSubplot at 0x2935b90c780>"
      ]
     },
     "execution_count": 21,
     "metadata": {},
     "output_type": "execute_result"
    },
    {
     "data": {
      "image/png": "[encoded data removed]",
      "text/plain": [
       "<Figure size 432x288 with 1 Axes>"
      ]
     },
     "metadata": {
      "needs_background": "light"
     },
     "output_type": "display_data"
    }
   ],
   "source": [
    "#Visualize value of Class/ASD_Traits by Who Completed the Test\n",
    "pd.crosstab(tdlrasd['Who_completed_the_test'], tdlrasd['Class/ASD_Traits']).plot.bar()"
   ]
  },
  {
   "cell_type": "code",
   "execution_count": 28,
   "metadata": {},
   "outputs": [],
   "source": [
    "# tdlrnum = tdlrasd[['A1','A2','A3','A4','A5','A6','A7','A8','A9','A10','Qchat-10-Score', 'Age_Mons']]\n",
    "# print(tdlrnum.head())"
   ]
  },
  {
   "cell_type": "code",
   "execution_count": 29,
   "metadata": {},
   "outputs": [],
   "source": [
    "# tdlrcat = tdlrasd[['Age_Range','Sex','Ethnicity','Jaundice','Family_mem_with_ASD','Who_completed_the_test','Class/ASD_Traits',]]\n",
    "# print(tdlrcat.head())"
   ]
  },
  {
   "cell_type": "markdown",
   "metadata": {},
   "source": [
    "### Use SQL to create data file with binary (dummy) variables and values"
   ]
  },
  {
   "cell_type": "code",
   "execution_count": 24,
   "metadata": {},
   "outputs": [],
   "source": [
    "# Write to csv for analysis in SQL\n",
    "tdlrasd.to_csv('tdlrasdSQL.csv')"
   ]
  },
  {
   "cell_type": "code",
   "execution_count": 25,
   "metadata": {},
   "outputs": [],
   "source": [
    "# Read csv file created with SQL\n",
    "tdlrasdint = pd.read_csv('tdlrasdSQL1.csv', index_col=None)\n"
   ]
  },
  {
   "cell_type": "code",
   "execution_count": 26,
   "metadata": {},
   "outputs": [
    {
     "name": "stdout",
     "output_type": "stream",
     "text": [
      "   Case_No  A1  A2  A3  A4  A5  A6  A7  A8  A9        ...         EthOthers  \\\n",
      "0        1   0   0   0   0   0   0   1   1   0        ...                 0   \n",
      "1        2   1   1   0   0   0   1   1   0   0        ...                 0   \n",
      "2        3   1   0   0   0   0   0   1   1   0        ...                 0   \n",
      "3        4   1   1   1   1   1   1   1   1   1        ...                 0   \n",
      "4        5   1   1   0   1   1   1   1   1   1        ...                 0   \n",
      "\n",
      "   EthPacifica  EthSouthAsian  EthWhiteEuro  Jaundice  CompFamilyMem  \\\n",
      "0            0              0             0         1              1   \n",
      "1            0              0             1         1              1   \n",
      "2            0              0             0         1              1   \n",
      "3            0              0             0         0              1   \n",
      "4            0              0             1         0              1   \n",
      "\n",
      "   CompHealthCareProf  CompOthers  CompSelf  ClassicASDTraits  \n",
      "0                   0           0         0                 0  \n",
      "1                   0           0         0                 1  \n",
      "2                   0           0         0                 1  \n",
      "3                   0           0         0                 1  \n",
      "4                   0           0         0                 1  \n",
      "\n",
      "[5 rows x 36 columns]\n",
      "Index(['Case_No', 'A1', 'A2', 'A3', 'A4', 'A5', 'A6', 'A7', 'A8', 'A9', 'A10',\n",
      "       'Qchat-10-Score', 'Age_Mons', 'AR_12-16', 'AR_17-21', 'AR_22-26',\n",
      "       'AR_27-31', 'AR_32-36', 'Male', 'EthAsian', 'EthBlack', 'EthHispanic',\n",
      "       'EthLatino', 'EthMiddleEastern', 'EthMixed', 'EthNativeIndian',\n",
      "       'EthOthers', 'EthPacifica', 'EthSouthAsian', 'EthWhiteEuro', 'Jaundice',\n",
      "       'CompFamilyMem', 'CompHealthCareProf', 'CompOthers', 'CompSelf',\n",
      "       'ClassicASDTraits'],\n",
      "      dtype='object')\n",
      "<class 'pandas.core.frame.DataFrame'>\n",
      "RangeIndex: 1054 entries, 0 to 1053\n",
      "Data columns (total 36 columns):\n",
      "Case_No               1054 non-null int64\n",
      "A1                    1054 non-null int64\n",
      "A2                    1054 non-null int64\n",
      "A3                    1054 non-null int64\n",
      "A4                    1054 non-null int64\n",
      "A5                    1054 non-null int64\n",
      "A6                    1054 non-null int64\n",
      "A7                    1054 non-null int64\n",
      "A8                    1054 non-null int64\n",
      "A9                    1054 non-null int64\n",
      "A10                   1054 non-null int64\n",
      "Qchat-10-Score        1054 non-null int64\n",
      "Age_Mons              1054 non-null int64\n",
      "AR_12-16              1054 non-null int64\n",
      "AR_17-21              1054 non-null int64\n",
      "AR_22-26              1054 non-null int64\n",
      "AR_27-31              1054 non-null int64\n",
      "AR_32-36              1054 non-null int64\n",
      "Male                  1054 non-null int64\n",
      "EthAsian              1054 non-null int64\n",
      "EthBlack              1054 non-null int64\n",
      "EthHispanic           1054 non-null int64\n",
      "EthLatino             1054 non-null int64\n",
      "EthMiddleEastern      1054 non-null int64\n",
      "EthMixed              1054 non-null int64\n",
      "EthNativeIndian       1054 non-null int64\n",
      "EthOthers             1054 non-null int64\n",
      "EthPacifica           1054 non-null int64\n",
      "EthSouthAsian         1054 non-null int64\n",
      "EthWhiteEuro          1054 non-null int64\n",
      "Jaundice              1054 non-null int64\n",
      "CompFamilyMem         1054 non-null int64\n",
      "CompHealthCareProf    1054 non-null int64\n",
      "CompOthers            1054 non-null int64\n",
      "CompSelf              1054 non-null int64\n",
      "ClassicASDTraits      1054 non-null int64\n",
      "dtypes: int64(36)\n",
      "memory usage: 296.5 KB\n",
      "None\n"
     ]
    }
   ],
   "source": [
    "print(tdlrasdint.head())\n",
    "print(tdlrasdint.columns)\n",
    "print(tdlrasdint.info())"
   ]
  },
  {
   "cell_type": "code",
   "execution_count": 29,
   "metadata": {},
   "outputs": [
    {
     "data": {
      "text/html": [
       "<div>\n",
       "<style scoped>\n",
       "    .dataframe tbody tr th:only-of-type {\n",
       "        vertical-align: middle;\n",
       "    }\n",
       "\n",
       "    .dataframe tbody tr th {\n",
       "        vertical-align: top;\n",
       "    }\n",
       "\n",
       "    .dataframe thead th {\n",
       "        text-align: right;\n",
       "    }\n",
       "</style>\n",
       "<table border=\"1\" class=\"dataframe\">\n",
       "  <thead>\n",
       "    <tr style=\"text-align: right;\">\n",
       "      <th></th>\n",
       "      <th>Case_No</th>\n",
       "      <th>A1</th>\n",
       "      <th>A2</th>\n",
       "      <th>A3</th>\n",
       "      <th>A4</th>\n",
       "      <th>A5</th>\n",
       "      <th>A6</th>\n",
       "      <th>A7</th>\n",
       "      <th>A8</th>\n",
       "      <th>A9</th>\n",
       "      <th>...</th>\n",
       "      <th>EthOthers</th>\n",
       "      <th>EthPacifica</th>\n",
       "      <th>EthSouthAsian</th>\n",
       "      <th>EthWhiteEuro</th>\n",
       "      <th>Jaundice</th>\n",
       "      <th>CompFamilyMem</th>\n",
       "      <th>CompHealthCareProf</th>\n",
       "      <th>CompOthers</th>\n",
       "      <th>CompSelf</th>\n",
       "      <th>ClassicASDTraits</th>\n",
       "    </tr>\n",
       "  </thead>\n",
       "  <tbody>\n",
       "    <tr>\n",
       "      <th>count</th>\n",
       "      <td>1054.000000</td>\n",
       "      <td>1054.000000</td>\n",
       "      <td>1054.000000</td>\n",
       "      <td>1054.000000</td>\n",
       "      <td>1054.000000</td>\n",
       "      <td>1054.000000</td>\n",
       "      <td>1054.000000</td>\n",
       "      <td>1054.000000</td>\n",
       "      <td>1054.000000</td>\n",
       "      <td>1054.000000</td>\n",
       "      <td>...</td>\n",
       "      <td>1054.000000</td>\n",
       "      <td>1054.000000</td>\n",
       "      <td>1054.000000</td>\n",
       "      <td>1054.000000</td>\n",
       "      <td>1054.000000</td>\n",
       "      <td>1054.000000</td>\n",
       "      <td>1054.000000</td>\n",
       "      <td>1054.000000</td>\n",
       "      <td>1054.000000</td>\n",
       "      <td>1054.000000</td>\n",
       "    </tr>\n",
       "    <tr>\n",
       "      <th>mean</th>\n",
       "      <td>527.500000</td>\n",
       "      <td>0.563567</td>\n",
       "      <td>0.448767</td>\n",
       "      <td>0.401328</td>\n",
       "      <td>0.512334</td>\n",
       "      <td>0.524668</td>\n",
       "      <td>0.576850</td>\n",
       "      <td>0.649905</td>\n",
       "      <td>0.459203</td>\n",
       "      <td>0.489564</td>\n",
       "      <td>...</td>\n",
       "      <td>0.033207</td>\n",
       "      <td>0.007590</td>\n",
       "      <td>0.056926</td>\n",
       "      <td>0.316888</td>\n",
       "      <td>0.273245</td>\n",
       "      <td>0.965844</td>\n",
       "      <td>0.027514</td>\n",
       "      <td>0.002846</td>\n",
       "      <td>0.003795</td>\n",
       "      <td>0.690702</td>\n",
       "    </tr>\n",
       "    <tr>\n",
       "      <th>std</th>\n",
       "      <td>304.407895</td>\n",
       "      <td>0.496178</td>\n",
       "      <td>0.497604</td>\n",
       "      <td>0.490400</td>\n",
       "      <td>0.500085</td>\n",
       "      <td>0.499628</td>\n",
       "      <td>0.494293</td>\n",
       "      <td>0.477226</td>\n",
       "      <td>0.498569</td>\n",
       "      <td>0.500128</td>\n",
       "      <td>...</td>\n",
       "      <td>0.179261</td>\n",
       "      <td>0.086831</td>\n",
       "      <td>0.231811</td>\n",
       "      <td>0.465484</td>\n",
       "      <td>0.445837</td>\n",
       "      <td>0.181715</td>\n",
       "      <td>0.163654</td>\n",
       "      <td>0.053300</td>\n",
       "      <td>0.061516</td>\n",
       "      <td>0.462424</td>\n",
       "    </tr>\n",
       "    <tr>\n",
       "      <th>min</th>\n",
       "      <td>1.000000</td>\n",
       "      <td>0.000000</td>\n",
       "      <td>0.000000</td>\n",
       "      <td>0.000000</td>\n",
       "      <td>0.000000</td>\n",
       "      <td>0.000000</td>\n",
       "      <td>0.000000</td>\n",
       "      <td>0.000000</td>\n",
       "      <td>0.000000</td>\n",
       "      <td>0.000000</td>\n",
       "      <td>...</td>\n",
       "      <td>0.000000</td>\n",
       "      <td>0.000000</td>\n",
       "      <td>0.000000</td>\n",
       "      <td>0.000000</td>\n",
       "      <td>0.000000</td>\n",
       "      <td>0.000000</td>\n",
       "      <td>0.000000</td>\n",
       "      <td>0.000000</td>\n",
       "      <td>0.000000</td>\n",
       "      <td>0.000000</td>\n",
       "    </tr>\n",
       "    <tr>\n",
       "      <th>25%</th>\n",
       "      <td>264.250000</td>\n",
       "      <td>0.000000</td>\n",
       "      <td>0.000000</td>\n",
       "      <td>0.000000</td>\n",
       "      <td>0.000000</td>\n",
       "      <td>0.000000</td>\n",
       "      <td>0.000000</td>\n",
       "      <td>0.000000</td>\n",
       "      <td>0.000000</td>\n",
       "      <td>0.000000</td>\n",
       "      <td>...</td>\n",
       "      <td>0.000000</td>\n",
       "      <td>0.000000</td>\n",
       "      <td>0.000000</td>\n",
       "      <td>0.000000</td>\n",
       "      <td>0.000000</td>\n",
       "      <td>1.000000</td>\n",
       "      <td>0.000000</td>\n",
       "      <td>0.000000</td>\n",
       "      <td>0.000000</td>\n",
       "      <td>0.000000</td>\n",
       "    </tr>\n",
       "    <tr>\n",
       "      <th>50%</th>\n",
       "      <td>527.500000</td>\n",
       "      <td>1.000000</td>\n",
       "      <td>0.000000</td>\n",
       "      <td>0.000000</td>\n",
       "      <td>1.000000</td>\n",
       "      <td>1.000000</td>\n",
       "      <td>1.000000</td>\n",
       "      <td>1.000000</td>\n",
       "      <td>0.000000</td>\n",
       "      <td>0.000000</td>\n",
       "      <td>...</td>\n",
       "      <td>0.000000</td>\n",
       "      <td>0.000000</td>\n",
       "      <td>0.000000</td>\n",
       "      <td>0.000000</td>\n",
       "      <td>0.000000</td>\n",
       "      <td>1.000000</td>\n",
       "      <td>0.000000</td>\n",
       "      <td>0.000000</td>\n",
       "      <td>0.000000</td>\n",
       "      <td>1.000000</td>\n",
       "    </tr>\n",
       "    <tr>\n",
       "      <th>75%</th>\n",
       "      <td>790.750000</td>\n",
       "      <td>1.000000</td>\n",
       "      <td>1.000000</td>\n",
       "      <td>1.000000</td>\n",
       "      <td>1.000000</td>\n",
       "      <td>1.000000</td>\n",
       "      <td>1.000000</td>\n",
       "      <td>1.000000</td>\n",
       "      <td>1.000000</td>\n",
       "      <td>1.000000</td>\n",
       "      <td>...</td>\n",
       "      <td>0.000000</td>\n",
       "      <td>0.000000</td>\n",
       "      <td>0.000000</td>\n",
       "      <td>1.000000</td>\n",
       "      <td>1.000000</td>\n",
       "      <td>1.000000</td>\n",
       "      <td>0.000000</td>\n",
       "      <td>0.000000</td>\n",
       "      <td>0.000000</td>\n",
       "      <td>1.000000</td>\n",
       "    </tr>\n",
       "    <tr>\n",
       "      <th>max</th>\n",
       "      <td>1054.000000</td>\n",
       "      <td>1.000000</td>\n",
       "      <td>1.000000</td>\n",
       "      <td>1.000000</td>\n",
       "      <td>1.000000</td>\n",
       "      <td>1.000000</td>\n",
       "      <td>1.000000</td>\n",
       "      <td>1.000000</td>\n",
       "      <td>1.000000</td>\n",
       "      <td>1.000000</td>\n",
       "      <td>...</td>\n",
       "      <td>1.000000</td>\n",
       "      <td>1.000000</td>\n",
       "      <td>1.000000</td>\n",
       "      <td>1.000000</td>\n",
       "      <td>1.000000</td>\n",
       "      <td>1.000000</td>\n",
       "      <td>1.000000</td>\n",
       "      <td>1.000000</td>\n",
       "      <td>1.000000</td>\n",
       "      <td>1.000000</td>\n",
       "    </tr>\n",
       "  </tbody>\n",
       "</table>\n",
       "<p>8 rows × 36 columns</p>\n",
       "</div>"
      ],
      "text/plain": [
       "           Case_No           A1           A2           A3           A4  \\\n",
       "count  1054.000000  1054.000000  1054.000000  1054.000000  1054.000000   \n",
       "mean    527.500000     0.563567     0.448767     0.401328     0.512334   \n",
       "std     304.407895     0.496178     0.497604     0.490400     0.500085   \n",
       "min       1.000000     0.000000     0.000000     0.000000     0.000000   \n",
       "25%     264.250000     0.000000     0.000000     0.000000     0.000000   \n",
       "50%     527.500000     1.000000     0.000000     0.000000     1.000000   \n",
       "75%     790.750000     1.000000     1.000000     1.000000     1.000000   \n",
       "max    1054.000000     1.000000     1.000000     1.000000     1.000000   \n",
       "\n",
       "                A5           A6           A7           A8           A9  \\\n",
       "count  1054.000000  1054.000000  1054.000000  1054.000000  1054.000000   \n",
       "mean      0.524668     0.576850     0.649905     0.459203     0.489564   \n",
       "std       0.499628     0.494293     0.477226     0.498569     0.500128   \n",
       "min       0.000000     0.000000     0.000000     0.000000     0.000000   \n",
       "25%       0.000000     0.000000     0.000000     0.000000     0.000000   \n",
       "50%       1.000000     1.000000     1.000000     0.000000     0.000000   \n",
       "75%       1.000000     1.000000     1.000000     1.000000     1.000000   \n",
       "max       1.000000     1.000000     1.000000     1.000000     1.000000   \n",
       "\n",
       "             ...           EthOthers  EthPacifica  EthSouthAsian  \\\n",
       "count        ...         1054.000000  1054.000000    1054.000000   \n",
       "mean         ...            0.033207     0.007590       0.056926   \n",
       "std          ...            0.179261     0.086831       0.231811   \n",
       "min          ...            0.000000     0.000000       0.000000   \n",
       "25%          ...            0.000000     0.000000       0.000000   \n",
       "50%          ...            0.000000     0.000000       0.000000   \n",
       "75%          ...            0.000000     0.000000       0.000000   \n",
       "max          ...            1.000000     1.000000       1.000000   \n",
       "\n",
       "       EthWhiteEuro     Jaundice  CompFamilyMem  CompHealthCareProf  \\\n",
       "count   1054.000000  1054.000000    1054.000000         1054.000000   \n",
       "mean       0.316888     0.273245       0.965844            0.027514   \n",
       "std        0.465484     0.445837       0.181715            0.163654   \n",
       "min        0.000000     0.000000       0.000000            0.000000   \n",
       "25%        0.000000     0.000000       1.000000            0.000000   \n",
       "50%        0.000000     0.000000       1.000000            0.000000   \n",
       "75%        1.000000     1.000000       1.000000            0.000000   \n",
       "max        1.000000     1.000000       1.000000            1.000000   \n",
       "\n",
       "        CompOthers     CompSelf  ClassicASDTraits  \n",
       "count  1054.000000  1054.000000       1054.000000  \n",
       "mean      0.002846     0.003795          0.690702  \n",
       "std       0.053300     0.061516          0.462424  \n",
       "min       0.000000     0.000000          0.000000  \n",
       "25%       0.000000     0.000000          0.000000  \n",
       "50%       0.000000     0.000000          1.000000  \n",
       "75%       0.000000     0.000000          1.000000  \n",
       "max       1.000000     1.000000          1.000000  \n",
       "\n",
       "[8 rows x 36 columns]"
      ]
     },
     "execution_count": 29,
     "metadata": {},
     "output_type": "execute_result"
    }
   ],
   "source": [
    "tdlrasdint.describe()"
   ]
  },
  {
   "cell_type": "code",
   "execution_count": 27,
   "metadata": {},
   "outputs": [],
   "source": [
    "# create function for Pearson Correlation Coefficient\n",
    "def pearson_r(x, y):\n",
    "    \"\"\"Compute Pearson Correlation Coefficient for Two Arrays\"\"\"\n",
    "    corr_mat = np.corrcoef(x, y)\n",
    "    \n",
    "    return corr_mat[0,1]\n"
   ]
  },
  {
   "cell_type": "markdown",
   "metadata": {},
   "source": [
    "#### Below, I am calculating and displaying the Pearson Correlation coefficient for the 10 behavioral questions related to Classic ASD Traits.\n",
    "#### A1-A10: Items within Q-Chat-10  in which questions possible answers : “Always, Usually, Sometimes, Rarly & Never” items’ values are mapped to “1” or “0” in the dataset. For questions 1-9 (A1-A9) in Q-chat-10,  if the respose was  Sometimes / Rarly / Never “1” is assigned to the question (A1-A9). However, for question 10 (A10), if the respose was Always / Usually / Sometimes then “1” is assigned to that question."
   ]
  },
  {
   "cell_type": "code",
   "execution_count": 36,
   "metadata": {},
   "outputs": [
    {
     "name": "stdout",
     "output_type": "stream",
     "text": [
      "The correlation coefficient based on \"Does your child look at you when you call his/her name?\", A1, is 0.5038096574587829\n",
      "The correlation coefficient based on \"How easy is it for you to get eye contact with your child?\", A2, is 0.4634673756124366\n",
      "The correlation coefficient based on \"Does your child point to indicate that s/he wants something?\", A3, is 0.4097006989303978\n",
      "The correlation coefficient based on \"Does your child point to share interest with you?\", A4, is 0.5052036573508788\n",
      "The correlation coefficient based on \"Does your child pretend?\", A5, is 0.5632971772384431\n",
      "The correlation coefficient based on \"Does your child follow where you’re looking?\", A6, is 0.5694241254863106\n",
      "The correlation coefficient based on \"If you or someone else in the family is visibly upset,\n",
      "does your child show signsof wanting to comfort them?\", A7, is 0.5631766877505484\n",
      "The correlation coefficient based on \"Child’s first words\", A8, is 0.4271550681626047\n",
      "The correlation coefficient based on \"Does your child use simple gestures, e.g. wave goodbye?\", A9, is 0.5773357085503221\n",
      "The correlation coefficient based on \"Does your child stare at nothing with no apparent purpose?\", A10, is 0.179833371281047\n"
     ]
    }
   ],
   "source": [
    "r_A1 = pearson_r(tdlrasdint['A1'], tdlrasdint['ClassicASDTraits'])\n",
    "r_A2 = pearson_r(tdlrasdint['A2'], tdlrasdint['ClassicASDTraits'])\n",
    "r_A3 = pearson_r(tdlrasdint['A3'], tdlrasdint['ClassicASDTraits'])\n",
    "r_A4 = pearson_r(tdlrasdint['A4'], tdlrasdint['ClassicASDTraits'])\n",
    "r_A5 = pearson_r(tdlrasdint['A5'], tdlrasdint['ClassicASDTraits'])\n",
    "r_A6 = pearson_r(tdlrasdint['A6'], tdlrasdint['ClassicASDTraits'])\n",
    "r_A7 = pearson_r(tdlrasdint['A7'], tdlrasdint['ClassicASDTraits'])\n",
    "r_A8 = pearson_r(tdlrasdint['A8'], tdlrasdint['ClassicASDTraits'])\n",
    "r_A9 = pearson_r(tdlrasdint['A9'], tdlrasdint['ClassicASDTraits'])\n",
    "r_A10 = pearson_r(tdlrasdint['A10'], tdlrasdint['ClassicASDTraits'])\n",
    "\n",
    "\n",
    "print('The correlation coefficient based on \"Does your child look at you when you call his/her name?\", A1, is', r_A1)\n",
    "print('The correlation coefficient based on \"How easy is it for you to get eye contact with your child?\", A2, is', r_A2)\n",
    "print('The correlation coefficient based on \"Does your child point to indicate that s/he wants something?\", A3, is', r_A3)\n",
    "print('The correlation coefficient based on \"Does your child point to share interest with you?\", A4, is', r_A4)\n",
    "print('The correlation coefficient based on \"Does your child pretend?\", A5, is', r_A5)\n",
    "print('The correlation coefficient based on \"Does your child follow where you’re looking?\", A6, is', r_A6)\n",
    "print('The correlation coefficient based on \"If you or someone else in the family is visibly upset,')\n",
    "print('does your child show signsof wanting to comfort them?\", A7, is', r_A7)\n",
    "print('The correlation coefficient based on \"Child’s first words\", A8, is', r_A8)\n",
    "print('The correlation coefficient based on \"Does your child use simple gestures, e.g. wave goodbye?\", A9, is', r_A9)\n",
    "print('The correlation coefficient based on \"Does your child stare at nothing with no apparent purpose?\", A10, is', r_A10)"
   ]
  },
  {
   "cell_type": "code",
   "execution_count": null,
   "metadata": {},
   "outputs": [],
   "source": []
  },
  {
   "cell_type": "code",
   "execution_count": null,
   "metadata": {},
   "outputs": [],
   "source": []
  },
  {
   "cell_type": "code",
   "execution_count": null,
   "metadata": {},
   "outputs": [],
   "source": []
  },
  {
   "cell_type": "code",
   "execution_count": null,
   "metadata": {},
   "outputs": [],
   "source": []
  }
 ],
 "metadata": {
  "kernelspec": {
   "display_name": "Python 3",
   "language": "python",
   "name": "python3"
  },
  "language_info": {
   "codemirror_mode": {
    "name": "ipython",
    "version": 3
   },
   "file_extension": ".py",
   "mimetype": "text/x-python",
   "name": "python",
   "nbconvert_exporter": "python",
   "pygments_lexer": "ipython3",
   "version": "3.7.0"
  }
 },
 "nbformat": 4,
 "nbformat_minor": 2
}
