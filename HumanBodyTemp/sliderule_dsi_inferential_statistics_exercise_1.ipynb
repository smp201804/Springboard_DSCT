{
 "cells": [
  {
   "cell_type": "markdown",
   "metadata": {},
   "source": [
    "# What is the True Normal Human Body Temperature? \n",
    "\n",
    "#### Background\n",
    "\n",
    "The mean normal body temperature was held to be 37$^{\\circ}$C or 98.6$^{\\circ}$F for more than 120 years since it was first conceptualized and reported by Carl Wunderlich in a famous 1868 book. But, is this value statistically correct?"
   ]
  },
  {
   "cell_type": "markdown",
   "metadata": {},
   "source": [
    "<h3>Exercises</h3>\n",
    "\n",
    "<p>In this exercise, you will analyze a dataset of human body temperatures and employ the concepts of hypothesis testing, confidence intervals, and statistical significance.</p>\n",
    "\n",
    "<p>Answer the following questions <b>in this notebook below and submit to your Github account</b>.</p> \n",
    "\n",
    "<ol>\n",
    "<li>  Is the distribution of body temperatures normal? \n",
    "    <ul>\n",
    "    <li> Although this is not a requirement for the Central Limit Theorem to hold (read the introduction on Wikipedia's page about the CLT carefully: https://en.wikipedia.org/wiki/Central_limit_theorem), it gives us some peace of mind that the population may also be normally distributed if we assume that this sample is representative of the population.\n",
    "    <li> Think about the way you're going to check for the normality of the distribution. Graphical methods are usually used first, but there are also other ways: https://en.wikipedia.org/wiki/Normality_test\n",
    "    </ul>\n",
    "<li>  Is the sample size large? Are the observations independent?\n",
    "    <ul>\n",
    "    <li> Remember that this is a condition for the Central Limit Theorem, and hence the statistical tests we are using, to apply.\n",
    "    </ul>\n",
    "<li>  Is the true population mean really 98.6 degrees F?\n",
    "    <ul>\n",
    "    <li> First, try a bootstrap hypothesis test.\n",
    "    <li> Now, let's try frequentist statistical testing. Would you use a one-sample or two-sample test? Why?\n",
    "    <li> In this situation, is it appropriate to use the $t$ or $z$ statistic? \n",
    "    <li> Now try using the other test. How is the result be different? Why?\n",
    "    </ul>\n",
    "<li>  Draw a small sample of size 10 from the data and repeat both frequentist tests. \n",
    "    <ul>\n",
    "    <li> Which one is the correct one to use? \n",
    "    <li> What do you notice? What does this tell you about the difference in application of the $t$ and $z$ statistic?\n",
    "    </ul>\n",
    "<li>  At what temperature should we consider someone's temperature to be \"abnormal\"?\n",
    "    <ul>\n",
    "    <li> As in the previous example, try calculating everything using the boostrap approach, as well as the frequentist approach.\n",
    "    <li> Start by computing the margin of error and confidence interval. When calculating the confidence interval, keep in mind that you should use the appropriate formula for one draw, and not N draws.\n",
    "    </ul>\n",
    "<li>  Is there a significant difference between males and females in normal temperature?\n",
    "    <ul>\n",
    "    <li> What testing approach did you use and why?\n",
    "    <li> Write a story with your conclusion in the context of the original problem.\n",
    "    </ul>\n",
    "</ol>\n",
    "\n",
    "You can include written notes in notebook cells using Markdown: \n",
    "   - In the control panel at the top, choose Cell > Cell Type > Markdown\n",
    "   - Markdown syntax: http://nestacms.com/docs/creating-content/markdown-cheat-sheet\n",
    "\n",
    "#### Resources\n",
    "\n",
    "+ Information and data sources: http://www.amstat.org/publications/jse/datasets/normtemp.txt, http://www.amstat.org/publications/jse/jse_data_archive.htm\n",
    "+ Markdown syntax: http://nestacms.com/docs/creating-content/markdown-cheat-sheet\n",
    "\n",
    "****"
   ]
  },
  {
   "cell_type": "code",
   "execution_count": 21,
   "metadata": {},
   "outputs": [],
   "source": [
    "import pandas as pd\n",
    "\n",
    "df = pd.read_csv('data/human_body_temperature.csv')"
   ]
  },
  {
   "cell_type": "code",
   "execution_count": 22,
   "metadata": {},
   "outputs": [
    {
     "name": "stdout",
     "output_type": "stream",
     "text": [
      "   temperature gender  heart_rate\n",
      "0         99.3      F        68.0\n",
      "1         98.4      F        81.0\n",
      "2         97.8      M        73.0\n",
      "3         99.2      F        66.0\n",
      "4         98.0      F        73.0\n"
     ]
    }
   ],
   "source": [
    "# Your work here.\n",
    "print(df.head())"
   ]
  },
  {
   "cell_type": "code",
   "execution_count": 67,
   "metadata": {},
   "outputs": [],
   "source": [
    "import pandas as pd\n",
    "import matplotlib.pyplot as plt\n",
    "%matplotlib inline\n",
    "import seaborn as sns\n",
    "sns.set()\n",
    "import numpy as np\n",
    "import scipy.stats as st\n",
    "from scipy.stats import norm\n",
    "from scipy import stats\n",
    "from statsmodels.stats.weightstats import ztest"
   ]
  },
  {
   "cell_type": "code",
   "execution_count": 24,
   "metadata": {},
   "outputs": [
    {
     "data": {
      "image/png": "[encoded data removed]",
      "text/plain": [
       "<Figure size 432x288 with 1 Axes>"
      ]
     },
     "metadata": {},
     "output_type": "display_data"
    }
   ],
   "source": [
    "#look at histogram of temperature\n",
    "numbins = int(np.sqrt(len(df['temperature'])))\n",
    "_ = plt.hist(df['temperature'], bins=numbins)\n",
    "_ = plt.xlabel('Human Temperature')\n",
    "_ = plt.ylabel('Number of Observations')\n",
    "plt.show()"
   ]
  },
  {
   "cell_type": "markdown",
   "metadata": {},
   "source": [
    "Based on the histogram, body temperature appears to be normally distributed.\n",
    "Will also look at the empirical cumulative distribution function."
   ]
  },
  {
   "cell_type": "code",
   "execution_count": 25,
   "metadata": {},
   "outputs": [],
   "source": [
    "#create empirical cumulative distribution function\n",
    "def ecdf(data):\n",
    "    n = len(data) #number of data points\n",
    "    x = np.sort(data)\n",
    "    y = np.arange(1, n+1) / n\n",
    "    return x, y\n"
   ]
  },
  {
   "cell_type": "code",
   "execution_count": 26,
   "metadata": {},
   "outputs": [],
   "source": [
    "#calcutlate mean and standard deviation of temperature and generate samples\n",
    "MeanTemp = np.mean(df['temperature'])\n",
    "STDTemp = np.std(df['temperature'])\n",
    "TempTheor = np.random.normal(MeanTemp, STDTemp, 10000)\n",
    "\n",
    "#create x and y values for the temperature data and for the theoretical data\n",
    "x_theor, y_theor = ecdf(TempTheor)\n",
    "x_temp, y_temp = ecdf(df['temperature'])"
   ]
  },
  {
   "cell_type": "code",
   "execution_count": 16,
   "metadata": {},
   "outputs": [
    {
     "data": {
      "image/png": "[encoded data removed]",
      "text/plain": [
       "<Figure size 432x288 with 1 Axes>"
      ]
     },
     "metadata": {
      "needs_background": "light"
     },
     "output_type": "display_data"
    }
   ],
   "source": [
    "#plot the ecdf\n",
    "_ = plt.plot(x_theor, y_theor)\n",
    "_ = plt.plot(x_temp, y_temp, marker = '.', linestyle = 'none')\n",
    "_ = plt.xlabel('Human Temperaure')\n",
    "_ = plt.ylabel('ecdf')\n",
    "_ = plt.legend(['Theoretical, normal CDF', 'Sample CDF'])\n",
    "plt.margins(0.02)\n",
    "plt.show()"
   ]
  },
  {
   "cell_type": "markdown",
   "metadata": {},
   "source": [
    "1. Based on the above visualizations, the temperature data is normally distributed."
   ]
  },
  {
   "cell_type": "markdown",
   "metadata": {},
   "source": [
    "2. Given that a sample size of 30 is considered large and normally distributed, at 130 observations we have a large sample.  Without more information on the population, it is difficult to say with certainty if the sample is independent.  However, given the variation in the observations, it is reasonable that the samples are independent. "
   ]
  },
  {
   "cell_type": "markdown",
   "metadata": {},
   "source": [
    "#### 3.1. First, use the bootstrap method to test for a mean = 98.6\n",
    "Null Hypothesis: Mean = 98.6\n",
    "Alternative Hypothesis: Mean <> 98.6"
   ]
  },
  {
   "cell_type": "code",
   "execution_count": 27,
   "metadata": {},
   "outputs": [],
   "source": [
    "#Set up bootstrap functions\n",
    "def bootstrap_replicates_1d(data, func):\n",
    "    bs_sample = np.random.choice(data, len(data))\n",
    "    return func(bs_sample)\n",
    "\n",
    "def draw_bs_reps(data, func, size=1):\n",
    "    bs_replicates = np.empty(size)\n",
    "    \n",
    "    for i in range(size):\n",
    "        bs_replicates[i] = bootstrap_replicates_1d(data, func)\n",
    "        \n",
    "    return bs_replicates\n",
    "  "
   ]
  },
  {
   "cell_type": "code",
   "execution_count": 29,
   "metadata": {},
   "outputs": [
    {
     "name": "stdout",
     "output_type": "stream",
     "text": [
      "p-value = 0.0\n"
     ]
    }
   ],
   "source": [
    "#Draw samples from a shifted distribution\n",
    "np.random.seed(15) #set random seed\n",
    "\n",
    "shifted_temps = df.temperature - MeanTemp + 98.6 #shift distribution to a mean of 98.6\n",
    "\n",
    "# Draw bootstrap replicates of shifted temperatures:\n",
    "shifted_replicates = draw_bs_reps(shifted_temps, np.mean, 10000)\n",
    "\n",
    "# Compute fraction of replicates that are less than the observed temperature mean, p-value:\n",
    "p = np.sum(shifted_replicates <= MeanTemp) / len(shifted_replicates)\n",
    "\n",
    "# Print the p-value:\n",
    "print('p-value =', p)\n"
   ]
  },
  {
   "cell_type": "markdown",
   "metadata": {},
   "source": [
    "3.1. Based on the bootstrap results with a p-value of 0, we would reject the null hypothesis and say  that the mean body temperature is not equal to 98.6."
   ]
  },
  {
   "cell_type": "markdown",
   "metadata": {},
   "source": [
    "3.2. Given that there is only sample a one sample test is appropriate.  Also, 130 samples with a normal distribution suggests we can use the Z score. The z statistic can be calculated using the difference between the sample mean and 98.6."
   ]
  },
  {
   "cell_type": "code",
   "execution_count": 32,
   "metadata": {},
   "outputs": [
    {
     "data": {
      "text/plain": [
       "-5.475925202078116"
      ]
     },
     "execution_count": 32,
     "metadata": {},
     "output_type": "execute_result"
    }
   ],
   "source": [
    "# z test statistic\n",
    "test_stat = (MeanTemp - 98.6) / (STDTemp / np.sqrt(len(df)))\n",
    "test_stat"
   ]
  },
  {
   "cell_type": "code",
   "execution_count": 34,
   "metadata": {},
   "outputs": [
    {
     "data": {
      "text/plain": [
       "4.3523151658821886e-08"
      ]
     },
     "execution_count": 34,
     "metadata": {},
     "output_type": "execute_result"
    }
   ],
   "source": [
    "# multiply p-value for z times because it's a two tailed test.\n",
    "p_value_z = stats.norm.cdf(test_stat) * 2\n",
    "p_value_z"
   ]
  },
  {
   "cell_type": "code",
   "execution_count": 52,
   "metadata": {},
   "outputs": [
    {
     "data": {
      "text/plain": [
       "(-5.4548232923645195, 4.9021570141012155e-08)"
      ]
     },
     "execution_count": 52,
     "metadata": {},
     "output_type": "execute_result"
    }
   ],
   "source": [
    "z2 = ztest(df.temperature,value=98.6)\n",
    "z2"
   ]
  },
  {
   "cell_type": "markdown",
   "metadata": {},
   "source": [
    "3.2. .000000043523 is far less than .05 (confidence level) strongly suggesting rejection of the null hypothesis."
   ]
  },
  {
   "cell_type": "code",
   "execution_count": 37,
   "metadata": {},
   "outputs": [
    {
     "data": {
      "text/plain": [
       "2.1887464624095175e-07"
      ]
     },
     "execution_count": 37,
     "metadata": {},
     "output_type": "execute_result"
    }
   ],
   "source": [
    "# The same test statistic can be used for the t test.\n",
    "p_value_t = stats.t.sf(abs(test_stat), len(df)-1) * 2\n",
    "p_value_t"
   ]
  },
  {
   "cell_type": "code",
   "execution_count": 55,
   "metadata": {},
   "outputs": [
    {
     "data": {
      "text/plain": [
       "Ttest_1sampResult(statistic=-5.4548232923645195, pvalue=2.4106320415561276e-07)"
      ]
     },
     "execution_count": 55,
     "metadata": {},
     "output_type": "execute_result"
    }
   ],
   "source": [
    "t2 = stats.ttest_1samp(df.temperature, 98.6)\n",
    "t2"
   ]
  },
  {
   "cell_type": "markdown",
   "metadata": {},
   "source": [
    "3.2. .000000218875 is also far less than .o5; reject null hypothesis."
   ]
  },
  {
   "cell_type": "markdown",
   "metadata": {},
   "source": [
    "### 4. Draw a small sample of size 10 from the data and repeat both frequentist tests."
   ]
  },
  {
   "cell_type": "code",
   "execution_count": 57,
   "metadata": {},
   "outputs": [
    {
     "data": {
      "text/plain": [
       "0.0014885133393078127"
      ]
     },
     "execution_count": 57,
     "metadata": {},
     "output_type": "execute_result"
    }
   ],
   "source": [
    "# p-value based on z test from sample\n",
    "sample1 = np.random.choice(df.temperature, 10)\n",
    "sample1\n",
    "s1_mean = np.mean(sample1)\n",
    "s1_std = np.std(sample1)\n",
    "s1_test = (s1_mean - 98.6) / (s1_std / np.sqrt(10))\n",
    "s1_test\n",
    "s1_test_z = stats.norm.cdf(s1_test) * 2\n",
    "s1_test_z"
   ]
  },
  {
   "cell_type": "code",
   "execution_count": 58,
   "metadata": {},
   "outputs": [
    {
     "data": {
      "text/plain": [
       "(-3.01388494546202, 0.0025792559967884056)"
      ]
     },
     "execution_count": 58,
     "metadata": {},
     "output_type": "execute_result"
    }
   ],
   "source": [
    "s1_z2 = ztest(sample1, value=98.6)\n",
    "s1_z2"
   ]
  },
  {
   "cell_type": "code",
   "execution_count": 59,
   "metadata": {},
   "outputs": [
    {
     "data": {
      "text/plain": [
       "0.011240382877506148"
      ]
     },
     "execution_count": 59,
     "metadata": {},
     "output_type": "execute_result"
    }
   ],
   "source": [
    "# p-value based on t test from sample\n",
    "s1_test_t = stats.t.sf(abs(s1_test), 9) * 2\n",
    "s1_test_t"
   ]
  },
  {
   "cell_type": "code",
   "execution_count": 60,
   "metadata": {},
   "outputs": [
    {
     "data": {
      "text/plain": [
       "Ttest_1sampResult(statistic=-3.01388494546202, pvalue=0.014623490148785633)"
      ]
     },
     "execution_count": 60,
     "metadata": {},
     "output_type": "execute_result"
    }
   ],
   "source": [
    "s1_t2 = stats.ttest_1samp(sample1, 98.6)\n",
    "s1_t2"
   ]
  },
  {
   "cell_type": "markdown",
   "metadata": {},
   "source": [
    "4. With only 10 samples, the t test may be better."
   ]
  },
  {
   "cell_type": "markdown",
   "metadata": {},
   "source": [
    "### 5. What temperature is considered abnormal - Bootstrap"
   ]
  },
  {
   "cell_type": "code",
   "execution_count": 63,
   "metadata": {},
   "outputs": [
    {
     "name": "stdout",
     "output_type": "stream",
     "text": [
      "Bootstrap based 95% confidence interval for human body temperature: [98.12153846 98.37538462] degrees F\n"
     ]
    }
   ],
   "source": [
    "np.random.seed(15) #set random seed\n",
    "\n",
    "bs_reps = draw_bs_reps(df.temperature, np.mean, 10000) #draw bs replicates\n",
    "\n",
    "ConfIntBS = np.percentile(bs_reps, [2.5, 97.5]) #calculate 95% confidence interval\n",
    "\n",
    "print('Bootstrap based 95% confidence interval for human body temperature:', ConfIntBS, 'degrees F')\n"
   ]
  },
  {
   "cell_type": "markdown",
   "metadata": {},
   "source": [
    "### 5. What temperature is considered abnormal - frequentist"
   ]
  },
  {
   "cell_type": "code",
   "execution_count": 68,
   "metadata": {},
   "outputs": [
    {
     "name": "stdout",
     "output_type": "stream",
     "text": [
      "Frequentist based 95% confidence interval for human body temperature: [96.82235634 99.67314136] degrees F\n",
      "95% confidence t = 1.978524491458605\n",
      "95% confidence z = 1.959963984540054\n",
      "95% confidence interval using t stat =  [96.80420001613984, 99.69426152232171]\n",
      "95% confidence interval using z stat =  [96.81775582674824, 99.68070571171332]\n"
     ]
    }
   ],
   "source": [
    "SampMean = np.mean(df.temperature)\n",
    "SampSTD = np.std(df.temperature)\n",
    "SampRand = np.random.normal(SampMean, SampSTD, size=10000)\n",
    "\n",
    "ConfIntFreq = np.percentile(SampRand, [2.5, 97.5])\n",
    "\n",
    "print('Frequentist based 95% confidence interval for human body temperature:', ConfIntFreq, 'degrees F')\n",
    "\n",
    "#Get t and z values for 95% confidence interval\n",
    "t = st.t.ppf(0.975,len(df.temperature)-1)\n",
    "z = st.norm.ppf(0.975)\n",
    "print('95% confidence t =',t)\n",
    "print('95% confidence z =',z)\n",
    "\n",
    "t_95 = [SampMean-t*SampSTD, SampMean+t*SampSTD]\n",
    "z_95 = [SampMean-z*SampSTD, SampMean+z*SampSTD]\n",
    "\n",
    "print('95% confidence interval using t stat = ',t_95)\n",
    "print('95% confidence interval using z stat = ',z_95)"
   ]
  },
  {
   "cell_type": "markdown",
   "metadata": {},
   "source": [
    "#### 5. Looks as if an abnormal temperature is one below 96.8 degrees Fahrenheit, and one above 99.7 degrees Fahrenheit."
   ]
  },
  {
   "cell_type": "markdown",
   "metadata": {},
   "source": [
    "## 6. Examine difference between male and female body temperature\n",
    "\n",
    "### Null Hypothesis: Mean male temperature = Mean female temperature\n",
    "### Alt. Hupothesis: Mean male temperature <> Mean female temperature\n",
    "\n",
    "#### Calclulate mean, std, or each\n",
    "#### Shift mean of one to the other\n",
    "#### Draw bootstrap samples of shifted distribution, and calculate p-value\n",
    "#### compare p-value to .05, 95% confidence interval\n"
   ]
  },
  {
   "cell_type": "code",
   "execution_count": 76,
   "metadata": {},
   "outputs": [
    {
     "name": "stdout",
     "output_type": "stream",
     "text": [
      "The mean temperature for males is 98.1046153846154 and the standard deviation is 0.6933598841828696\n",
      "The mean temperature for females is 98.39384615384613 and the standard deviation is 0.7377464486428966\n"
     ]
    }
   ],
   "source": [
    "Mtemp = df[df.gender == 'M'].temperature\n",
    "Ftemp = df[df.gender == 'F'].temperature\n",
    "\n",
    "Mmean = np.mean(Mtemp)\n",
    "Fmean = np.mean(Ftemp)\n",
    "\n",
    "Mstd = np.std(Mtemp)\n",
    "Fstd = np.std(Ftemp)\n",
    "\n",
    "print('The mean temperature for males is', Mmean, 'and the standard deviation is', Mstd)\n",
    "print('The mean temperature for females is', Fmean, 'and the standard deviation is', Fstd)"
   ]
  },
  {
   "cell_type": "code",
   "execution_count": 81,
   "metadata": {},
   "outputs": [
    {
     "name": "stdout",
     "output_type": "stream",
     "text": [
      "p-value: 0.0005\n"
     ]
    }
   ],
   "source": [
    "MaleShifted = Mtemp - Mmean + Fmean\n",
    "\n",
    "male_bs_reps = draw_bs_reps(MaleShifted, np.mean, 10000)\n",
    "\n",
    "p = np.sum(male_bs_reps <= Mmean) / len(male_bs_reps)\n",
    "\n",
    "print('p-value:', p)"
   ]
  },
  {
   "cell_type": "markdown",
   "metadata": {},
   "source": [
    "### 6. The .0005 p-value indicates rejecting the null hypothesis; male and female body temperatures are not equal."
   ]
  },
  {
   "cell_type": "code",
   "execution_count": null,
   "metadata": {},
   "outputs": [],
   "source": []
  }
 ],
 "metadata": {
  "kernelspec": {
   "display_name": "Python 3",
   "language": "python",
   "name": "python3"
  },
  "language_info": {
   "codemirror_mode": {
    "name": "ipython",
    "version": 3
   },
   "file_extension": ".py",
   "mimetype": "text/x-python",
   "name": "python",
   "nbconvert_exporter": "python",
   "pygments_lexer": "ipython3",
   "version": "3.7.0"
  }
 },
 "nbformat": 4,
 "nbformat_minor": 1
}
